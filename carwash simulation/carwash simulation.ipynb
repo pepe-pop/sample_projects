{
 "cells": [
  {
   "cell_type": "markdown",
   "metadata": {},
   "source": [
    "# KarłoszPol"
   ]
  },
  {
   "cell_type": "markdown",
   "metadata": {},
   "source": [
    "### Wgranie potrzebnych pakietów"
   ]
  },
  {
   "cell_type": "code",
   "execution_count": 3,
   "metadata": {},
   "outputs": [],
   "source": [
    "import numpy as np\n",
    "import random\n",
    "import simpy\n",
    "import matplotlib.pyplot as plt"
   ]
  },
  {
   "cell_type": "markdown",
   "metadata": {},
   "source": [
    "### Ustalenie zmiennych wejściowych do modelu"
   ]
  },
  {
   "cell_type": "code",
   "execution_count": 4,
   "metadata": {},
   "outputs": [],
   "source": [
    "# =========== ZMIENNE =============\n",
    "\n",
    "# liczba stanowisk\n",
    "\n",
    "machines = 5\n",
    "\n",
    "# typ myjni\n",
    "\n",
    "typ_myjni = 'R'\n",
    "\n",
    "# horyzont analizy - ilość minut działania myjni w ciągu dnia\n",
    "horyzont = 720\n",
    "\n",
    "# liczba uruchomień symulacji\n",
    "iterations = 20\n",
    "\n",
    "# średnia i odchylenie ilości klientów\n",
    "clients = 150\n",
    "clients_std = 10\n",
    "\n",
    "# pierwszy gorący okres w ciągu dnia - po jakim czasie od otwarcia stacji jest najwięcej klientów ( i z jakim odchyleniem)\n",
    "happy_hour = 120\n",
    "happy_hour_std = 30\n",
    "\n",
    "# drugi gorący okres\n",
    "happy_hour_2 = 500\n",
    "happy_hour_2_std = 60\n",
    "\n",
    "# seed\n",
    "ziarno = 2137\n"
   ]
  },
  {
   "cell_type": "markdown",
   "metadata": {},
   "source": [
    "### Tworzenie składowych modelu"
   ]
  },
  {
   "cell_type": "code",
   "execution_count": 5,
   "metadata": {},
   "outputs": [],
   "source": [
    "# ====== funkcje oraz klasy pomocnicze ======\n",
    "\n",
    "# stworzenie rozkładu bimodalnego\n",
    "def rozklad_binominal(N,mu,sigma,mu2,sigma2):\n",
    "    \n",
    "    N=int(N/2)\n",
    "    X1 = np.random.normal(mu, sigma, N)\n",
    "    X2 = np.random.normal(mu2, sigma2, N)\n",
    "    X = np.concatenate([X1, X2])\n",
    "\n",
    "    return(X)\n",
    "\n",
    "# klasa definiująca status mycia samochodu -> przypisuje konkretnemu samochodowi pewien czas mycia\n",
    "\n",
    "class Carwash(object):\n",
    "    \"\"\"Myjnia ma ograniczoną liczbę maszyn, z których korzysta równolegle do mycia samochodów.\n",
    "        Kolejne auta wysyłają prośbę o skorzystanie z jednej z maszyn. Jeżeli otrzymają prośbę to zaczyna się proces mycia.\n",
    "        W przeciwnym przypadku oczekują w kolejce do momentu otrzymania zgody na mycie.\n",
    "    \"\"\"\n",
    "    def __init__(self, env, num_machines, washtime):\n",
    "        self.env = env\n",
    "        self.machine = simpy.Resource(env, num_machines)\n",
    "        self.washtime = washtime\n",
    "    def wash(self, car):\n",
    "        \"\"\" Proces mycia. Funkcja bierze konkretny samochód i przypisuje mu czas mycia\"\"\"\n",
    "        yield self.env.timeout(np.random.randint(self.washtime - 2, self.washtime + 2))\n",
    "\n",
    "# funkcja tworząca obiekt - samochód\n",
    "        \n",
    "def car(env, name, cw, stats):\n",
    "    \"\"\"Funkcja definiuje kolejne statusy samochodu. Na początku tworzy auto(razem z nazwą) i zapisuje moment,\n",
    "    w którym przyjechał. Następnie zapisuje kolejne stany samochodu, łącznie z momentem, w którym\n",
    "    wyjeżdża z myjni\n",
    "    \"\"\"\n",
    "    stats['cars'].append(name)\n",
    "    arrival_time = env.now\n",
    "    stats['arrival'].append(arrival_time)\n",
    " \n",
    "\n",
    "    with cw.machine.request() as request:\n",
    "\n",
    "        yield request\n",
    "        enter_time = env.now\n",
    "        stats['enter'].append(enter_time)\n",
    "        yield env.process(cw.wash(name))\n",
    "        leave_time = env.now\n",
    "        stats['leave'].append(leave_time)\n",
    "    stats['waittimes'].append(enter_time - arrival_time)\n",
    "    stats['totaltimes'].append(leave_time - arrival_time)\n",
    "       \n",
    "def setup(env, num_machines, washtime, events, stats):\n",
    "    \"\"\"Funkcja uruchamiająca, która tworzy myjnię, ustala pierwszych czterech klientów\n",
    "    i tworzy kolejnych, na podstawie czasów przyjazdu z rozkładu bimodalnego\"\"\"\n",
    "    # Stworzenie myjni\n",
    "    carwash = Carwash(env, num_machines, washtime)\n",
    "    # Stworzenie 4 początkowych samochodow\n",
    "    for i in range(4):\n",
    "        env.process(car(env, f'Car {i}', carwash, stats))\n",
    "        3\n",
    "        # Tworzenie kolejnych samochodów\n",
    "    while True:\n",
    "        for j in events:\n",
    "            yield env.timeout(j)\n",
    "            i += 1\n",
    "            env.process(car(env, f'Car {i}', carwash, stats))\n"
   ]
  },
  {
   "cell_type": "markdown",
   "metadata": {},
   "source": [
    "### Model"
   ]
  },
  {
   "cell_type": "code",
   "execution_count": 6,
   "metadata": {},
   "outputs": [],
   "source": [
    "def model(N,N_sigma,mu, sigma,mu2,sigma2, n_machines, rodzaj, horizont,r_seed = ziarno):\n",
    "    \n",
    "    np.random.seed(r_seed)\n",
    "    # losowa liczba populacji z rozkładu normalnego\n",
    "    pop_size=int(np.random.normal(N, N_sigma))\n",
    "    \n",
    "    # zapewnienie zdarzeń z rozkładu dwumodalnego\n",
    "    events=rozklad_binominal(pop_size,mu,sigma,mu2,sigma2)\n",
    "    events = np.sort(events)\n",
    "    for i,j in enumerate(events):\n",
    "   \n",
    "        if j < 0:\n",
    "            events[i] = 0\n",
    "        elif j>horizont:\n",
    "            events[i] = horizont\n",
    "    events = np.diff(events)\n",
    "    events = np.round(events,2)\n",
    "    events = np.delete(events,np.where(events == 0))\n",
    "    \n",
    "    if rodzaj == 'R':\n",
    "        wash_t = 12 # minut\n",
    "    elif rodzaj =='M':\n",
    "        wash_t = 7 # minut\n",
    "    \n",
    "    # lista na zapisywanie wyników, w jakim czasie samochody odbywały kolejne czynności\n",
    "    stats = {}\n",
    "    stats['cars'] = []\n",
    "    stats['arrival'] = []\n",
    "    stats['enter'] =[]\n",
    "    stats['leave'] =[]\n",
    "    stats['waittimes'] = []\n",
    "    stats['totaltimes'] = []\n",
    "    \n",
    "    #uruchomienie symulacji\n",
    "    env = simpy.Environment()\n",
    "    env.process(setup(env, n_machines, wash_t,events, stats))\n",
    "    env.run(until=horizont)\n",
    "\n",
    "    #zapewnienie, że samochody, które wjechały ale nie zdążyły się umyć wyjadą (dodanie czasu opuszczenia)\n",
    "    stats['leave'].extend([horizont]* (len(stats['arrival'])-len(stats['leave'])))\n",
    "    stats['enter'].extend([horizont]* (len(stats['arrival'])-len(stats['enter'])))\n",
    "\n",
    "    # policzenie czasów oczekiwania i czasu całkowitego\n",
    "    for k in range(len(stats['waittimes']),len(stats['arrival'])):\n",
    "        stats['waittimes'].append(stats['enter'][k]-stats['arrival'][k])\n",
    "\n",
    "    for k in range(len(stats['totaltimes']),len(stats['arrival'])):\n",
    "        stats['totaltimes'].append(stats['leave'][k]-stats['arrival'][k])\n",
    "    \n",
    "    \n",
    "    \n",
    "    \n",
    "    # wynik to całkowity czas spedzony na myjni\n",
    "    return(sum(stats['totaltimes'])-sum(stats['waittimes']))"
   ]
  },
  {
   "cell_type": "markdown",
   "metadata": {},
   "source": [
    "### Funkcja definiująca iteracje wyników modelu"
   ]
  },
  {
   "cell_type": "code",
   "execution_count": 7,
   "metadata": {},
   "outputs": [],
   "source": [
    "def run_model (iterations,N,N_sigma,mu, sigma,mu2,sigma2, n_machines, rodzaj, horizont,r_seed):\n",
    "    avg_t_cum = []\n",
    "    for i in range (iterations):\n",
    "        avg_t_cum.append(model(N,N_sigma,mu, sigma,mu2,sigma2, n_machines, rodzaj, horizont,r_seed))\n",
    "        r_seed += i\n",
    "    return (avg_t_cum)"
   ]
  },
  {
   "cell_type": "markdown",
   "metadata": {},
   "source": [
    "### Zapewnienie horyzontu 365 dni"
   ]
  },
  {
   "cell_type": "code",
   "execution_count": 8,
   "metadata": {},
   "outputs": [],
   "source": [
    "def w_czasie(dni, typ_myjni,machines):\n",
    "    avg_time=[]\n",
    "    for i in range(dni):\n",
    "        avg_time.append(np.average(run_model(iterations,clients,clients_std,happy_hour,happy_hour_std,happy_hour_2,happy_hour_2_std,machines,typ_myjni,horyzont,ziarno)))\n",
    "    return(np.sum(avg_time))\n",
    "    "
   ]
  },
  {
   "cell_type": "markdown",
   "metadata": {},
   "source": [
    "### Funkcja uzupełniająca wynik modelu o koszty - otrzymanie zysku rocznego"
   ]
  },
  {
   "cell_type": "code",
   "execution_count": 9,
   "metadata": {},
   "outputs": [],
   "source": [
    "def zysk_roczny(machines,typ_myjni):\n",
    "    \n",
    "    if typ_myjni =='M':\n",
    "        cena=2\n",
    "        budowa = 20000\n",
    "        koszt_jednostkowy = 1.2\n",
    "    elif typ_myjni ==\"R\":\n",
    "        cena=1\n",
    "        budowa=15000\n",
    "        koszt_jednostkowy=0.5\n",
    "\n",
    "    suma_minut=w_czasie(365,typ_myjni,machines)\n",
    "    przychod=suma_minut*cena\n",
    "    koszt=budowa*machines+koszt_jednostkowy*suma_minut\n",
    "    zysk=przychod-koszt\n",
    "    \n",
    "    return[przychod,koszt,zysk]"
   ]
  },
  {
   "cell_type": "markdown",
   "metadata": {},
   "source": [
    "### Wynik dla myjni typu ręcznego (5 stanowisk)"
   ]
  },
  {
   "cell_type": "code",
   "execution_count": 10,
   "metadata": {},
   "outputs": [
    {
     "data": {
      "text/plain": [
       "337929.9750000002"
      ]
     },
     "execution_count": 10,
     "metadata": {},
     "output_type": "execute_result"
    }
   ],
   "source": [
    "zysk_roczny(machines,'R')[2]"
   ]
  },
  {
   "cell_type": "markdown",
   "metadata": {},
   "source": [
    "### Wynik dla myjni typu mechanicznego (5 stanowisk)"
   ]
  },
  {
   "cell_type": "code",
   "execution_count": 11,
   "metadata": {},
   "outputs": [
    {
     "data": {
      "text/plain": [
       "307267.87600000005"
      ]
     },
     "execution_count": 11,
     "metadata": {},
     "output_type": "execute_result"
    }
   ],
   "source": [
    "zysk_roczny(machines,'M')[2]"
   ]
  },
  {
   "cell_type": "markdown",
   "metadata": {},
   "source": [
    "# Analiza wrażliwości"
   ]
  },
  {
   "cell_type": "markdown",
   "metadata": {},
   "source": [
    "### Wpływ zmiany liczby maszyn oraz kosztu budowy na zysk (w podziale na typ myjni)"
   ]
  },
  {
   "cell_type": "code",
   "execution_count": 13,
   "metadata": {},
   "outputs": [],
   "source": [
    "results2 ={}\n",
    "\n",
    "for machines in range(1,6):\n",
    "    for i in range(0,2):\n",
    "        if i==0:\n",
    "            typ_myjni=\"R\"\n",
    "            cena=1\n",
    "            koszt_jednostkowy=0.5\n",
    "        else:\n",
    "            typ_myjni=\"M\"\n",
    "            cena=2\n",
    "            koszt_jednostkowy=1.2\n",
    "            \n",
    "        suma_minut=w_czasie(365,typ_myjni,machines)\n",
    "\n",
    "        for budowa in range(5000, 20000, 2000):\n",
    "            przychod=suma_minut*cena\n",
    "            koszt=budowa*machines+koszt_jednostkowy*suma_minut\n",
    "            zysk=przychod-koszt\n",
    "            #print(f\"cena - {cena}, koszt jednostkowy - {koszt_jednostkowy},budowa - {budowa}, zysk - {zysk})\n",
    "            results2.setdefault((machines,typ_myjni,cena,koszt_jednostkowy,budowa),[]).append([zysk])\n"
   ]
  },
  {
   "cell_type": "code",
   "execution_count": 14,
   "metadata": {},
   "outputs": [],
   "source": [
    "\n",
    "vals = [r for r in results2.keys()]\n",
    "zyski=[r for r in results2.values()]\n",
    "\n",
    "profit = [v[0][0] for v in zyski]\n",
    "typ=[v[1] for v in vals]\n",
    "stanowiska=[v[0] for v in vals]\n",
    "budowa=[v[4] for v in vals]\n",
    "\n",
    "\n",
    "data2 = pd.DataFrame({'stanowiska':stanowiska,'typ': typ,'budowa':budowa,'zysk' : profit })\n",
    "\n"
   ]
  },
  {
   "cell_type": "code",
   "execution_count": 46,
   "metadata": {},
   "outputs": [
    {
     "ename": "AttributeError",
     "evalue": "Use the `.axes` attribute when facet variables are assigned.",
     "output_type": "error",
     "traceback": [
      "\u001b[1;31m---------------------------------------------------------------------------\u001b[0m",
      "\u001b[1;31mAttributeError\u001b[0m                            Traceback (most recent call last)",
      "\u001b[1;32m<ipython-input-46-06502e204cee>\u001b[0m in \u001b[0;36m<module>\u001b[1;34m\u001b[0m\n\u001b[0;32m     13\u001b[0m \u001b[1;33m\u001b[0m\u001b[0m\n\u001b[0;32m     14\u001b[0m \u001b[1;33m\u001b[0m\u001b[0m\n\u001b[1;32m---> 15\u001b[1;33m \u001b[0mg\u001b[0m\u001b[1;33m.\u001b[0m\u001b[0max\u001b[0m\u001b[1;33m.\u001b[0m\u001b[0mxaxis\u001b[0m\u001b[1;33m.\u001b[0m\u001b[0mgrid\u001b[0m\u001b[1;33m(\u001b[0m\u001b[1;32mTrue\u001b[0m\u001b[1;33m)\u001b[0m\u001b[1;33m\u001b[0m\u001b[1;33m\u001b[0m\u001b[0m\n\u001b[0m\u001b[0;32m     16\u001b[0m \u001b[0mg\u001b[0m\u001b[1;33m.\u001b[0m\u001b[0mdespine\u001b[0m\u001b[1;33m(\u001b[0m\u001b[0mleft\u001b[0m\u001b[1;33m=\u001b[0m\u001b[1;32mTrue\u001b[0m\u001b[1;33m,\u001b[0m \u001b[0mbottom\u001b[0m\u001b[1;33m=\u001b[0m\u001b[1;32mTrue\u001b[0m\u001b[1;33m)\u001b[0m\u001b[1;33m\u001b[0m\u001b[1;33m\u001b[0m\u001b[0m\n\u001b[0;32m     17\u001b[0m \u001b[1;33m\u001b[0m\u001b[0m\n",
      "\u001b[1;32mC:\\Program Files\\Anaconda3\\lib\\site-packages\\seaborn\\axisgrid.py\u001b[0m in \u001b[0;36max\u001b[1;34m(self)\u001b[0m\n\u001b[0;32m    976\u001b[0m                 \u001b[1;34m\"Use the `.axes` attribute when facet variables are assigned.\"\u001b[0m\u001b[1;33m\u001b[0m\u001b[1;33m\u001b[0m\u001b[0m\n\u001b[0;32m    977\u001b[0m             )\n\u001b[1;32m--> 978\u001b[1;33m             \u001b[1;32mraise\u001b[0m \u001b[0mAttributeError\u001b[0m\u001b[1;33m(\u001b[0m\u001b[0merr\u001b[0m\u001b[1;33m)\u001b[0m\u001b[1;33m\u001b[0m\u001b[1;33m\u001b[0m\u001b[0m\n\u001b[0m\u001b[0;32m    979\u001b[0m \u001b[1;33m\u001b[0m\u001b[0m\n\u001b[0;32m    980\u001b[0m     \u001b[1;33m@\u001b[0m\u001b[0mproperty\u001b[0m\u001b[1;33m\u001b[0m\u001b[1;33m\u001b[0m\u001b[0m\n",
      "\u001b[1;31mAttributeError\u001b[0m: Use the `.axes` attribute when facet variables are assigned."
     ]
    },
    {
     "data": {
      "image/png": "[encoded data removed]",
      "text/plain": [
       "<Figure size 811.77x360 with 2 Axes>"
      ]
     },
     "metadata": {},
     "output_type": "display_data"
    }
   ],
   "source": [
    "sns.set_style(\"white\")\n",
    "\n",
    "cmap = sns.color_palette(\"rocket\", as_cmap=True)\n",
    "g = sns.relplot(\n",
    "    data=data2,\n",
    "    x=\"stanowiska\", y=\"budowa\",\n",
    "    hue=\"zysk\",\n",
    "    size=\"zysk\",\n",
    "    col=\"typ\",\n",
    "    palette=cmap,\n",
    "    sizes=(100, 500)\n",
    ")\n",
    "\n",
    "\n",
    "g.ax.xaxis.grid(True)\n",
    "g.despine(left=True, bottom=True)\n",
    "\n"
   ]
  },
  {
   "cell_type": "markdown",
   "metadata": {},
   "source": [
    "### Wpływ zmiany liczby maszyn na zysk (w podziale na typ myjni)"
   ]
  },
  {
   "cell_type": "code",
   "execution_count": 16,
   "metadata": {},
   "outputs": [],
   "source": [
    "results3 ={}\n",
    "\n",
    "\n",
    "for machines in range(1,6):\n",
    "    for i in range(0,2):\n",
    "        if i==0:\n",
    "            typ_myjni=\"R\"\n",
    "            cena=1\n",
    "            koszt_jednostkowy=0.5\n",
    "            budowa=15000\n",
    "        else:\n",
    "            typ_myjni=\"M\"\n",
    "            cena=2\n",
    "            koszt_jednostkowy=1.2\n",
    "            budowa=20000\n",
    "            \n",
    "        suma_minut=w_czasie(365,typ_myjni,machines)\n",
    "        \n",
    "        przychod=suma_minut*cena\n",
    "        koszt=budowa*machines+koszt_jednostkowy*suma_minut\n",
    "        zysk=przychod-koszt\n",
    "        #print(f\"cena - {cena}, koszt jednostkowy - {koszt_jednostkowy},budowa - {budowa}, zysk - {zysk})\n",
    "        results3.setdefault((machines,typ_myjni,cena,koszt_jednostkowy,budowa),[]).append([zysk])"
   ]
  },
  {
   "cell_type": "code",
   "execution_count": 17,
   "metadata": {},
   "outputs": [],
   "source": [
    "\n",
    "vals = [r for r in results3.keys()]\n",
    "zyski=[r for r in results3.values()]\n",
    "\n",
    "profit = [v[0][0] for v in zyski]\n",
    "typ=[v[1] for v in vals]\n",
    "stanowiska=[v[0] for v in vals]\n",
    "\n",
    "\n",
    "\n",
    "data3 = pd.DataFrame({'stanowiska':stanowiska,'typ': typ,'zysk' : profit })"
   ]
  },
  {
   "cell_type": "code",
   "execution_count": 43,
   "metadata": {},
   "outputs": [
    {
     "data": {
      "text/plain": [
       "<matplotlib.legend.Legend at 0x224365d9820>"
      ]
     },
     "execution_count": 43,
     "metadata": {},
     "output_type": "execute_result"
    },
    {
     "data": {
      "image/png": "[encoded data removed]",
      "text/plain": [
       "<Figure size 432x432 with 1 Axes>"
      ]
     },
     "metadata": {},
     "output_type": "display_data"
    }
   ],
   "source": [
    "#sns.set_style(\"white\")\n",
    "sns.set(font_scale=1.2,style=\"white\")\n",
    "\n",
    "\n",
    "g = sns.catplot(\n",
    "    data=data3, kind=\"bar\",\n",
    "    x=\"stanowiska\", y=\"zysk\", hue=\"typ\",\n",
    "    ci=\"sd\", palette=\"rocket\", alpha=.5, height=6, legend=False\n",
    ")\n",
    "g.despine(left=True)\n",
    "g.set_axis_labels(\"Liczba stanowisk\", \"Zysk\")\n",
    "#g.legend.set_title(\"Typ myjni\")\n",
    "g.ax.legend(loc=2)"
   ]
  },
  {
   "cell_type": "markdown",
   "metadata": {},
   "source": [
    "### Wynik finansowy oddziału myjni w czasie"
   ]
  },
  {
   "cell_type": "code",
   "execution_count": 80,
   "metadata": {},
   "outputs": [],
   "source": [
    "\n",
    "dni=365\n",
    "avg_time_daily=[]\n",
    "for i in range(dni):\n",
    "    ziarno=random.randint(1,1000)\n",
    "    #r_seed=random.random()\n",
    "    czas=np.average(run_model(iterations,clients,clients_std,happy_hour,happy_hour_std,happy_hour_2,happy_hour_2_std,machines,typ_myjni,horyzont,ziarno))\n",
    "    avg_time_daily.append([czas])\n"
   ]
  },
  {
   "cell_type": "code",
   "execution_count": 179,
   "metadata": {},
   "outputs": [
    {
     "name": "stderr",
     "output_type": "stream",
     "text": [
      "<ipython-input-179-f34c84f6b071>:25: SettingWithCopyWarning: \n",
      "A value is trying to be set on a copy of a slice from a DataFrame\n",
      "\n",
      "See the caveats in the documentation: https://pandas.pydata.org/pandas-docs/stable/user_guide/indexing.html#returning-a-view-versus-a-copy\n",
      "  avg_df.zysk[0]=avg_df.zysk[0]-budowa*machines\n"
     ]
    }
   ],
   "source": [
    "machines=5\n",
    "cena=1\n",
    "koszt_jednostkowy=0.5\n",
    "budowa=15000\n",
    "\n",
    "def wyliczenie_zysku(suma_minut):\n",
    "    przychod=suma_minut*cena\n",
    "    koszt=koszt_jednostkowy*suma_minut\n",
    "    zysk=przychod-koszt\n",
    "    return zysk\n",
    "\n",
    "        \n",
    "avg_min = [i[0] for i in avg_time_daily]\n",
    "\n",
    "lista_zyskow = []\n",
    "for suma_minut in avg_min:\n",
    "    try:\n",
    "        lista_zyskow.append(wyliczenie_zysku(suma_minut))\n",
    "    except TypeError:\n",
    "        lista_zyskow.append(wyliczenie_zysku(suma_minut[0]))\n",
    "\n",
    "\n",
    "avg_df = pd.DataFrame.from_dict(dict(suma_minut=avg_min, zysk = lista_zyskow))\n",
    "\n",
    "avg_df.zysk[0]=avg_df.zysk[0]-budowa*machines"
   ]
  },
  {
   "cell_type": "code",
   "execution_count": 194,
   "metadata": {},
   "outputs": [],
   "source": [
    "dzien=[*range(1,366)]\n",
    "zysk2_list = []\n",
    "for ind in avg_df['zysk'].index:\n",
    "    if ind == 0:\n",
    "        zysk2 = avg_df['zysk'][ind]\n",
    "        zysk2_list.append(zysk2)\n",
    "    else:\n",
    "        zysk2 = zysk2 + avg_df['zysk'][ind]\n",
    "        zysk2_list.append(zysk2)\n",
    "avg_df['zysk2'] = zysk2_list\n",
    "avg_df['dzien'] = dzien\n",
    "\n"
   ]
  },
  {
   "cell_type": "code",
   "execution_count": 200,
   "metadata": {},
   "outputs": [
    {
     "data": {
      "text/plain": [
       "<seaborn.axisgrid.FacetGrid at 0x2243bd408e0>"
      ]
     },
     "execution_count": 200,
     "metadata": {},
     "output_type": "execute_result"
    },
    {
     "data": {
      "image/png": "[encoded data removed]",
      "text/plain": [
       "<Figure size 432x432 with 1 Axes>"
      ]
     },
     "metadata": {},
     "output_type": "display_data"
    }
   ],
   "source": [
    "sns.set(font_scale=1.2,style=\"white\")\n",
    "\n",
    "\n",
    "g = sns.catplot(\n",
    "    data=avg_df, kind=\"bar\",\n",
    "    x=\"dzien\", y=\"zysk2\",\n",
    "    ci=\"sd\", color=\"red\", alpha=.6, height=6\n",
    ")\n",
    "g.despine(left=True)\n",
    "g.set_axis_labels(\"Liczba dni\", \"Zysk\")\n",
    "g.set(xticks=range(0,356,50))"
   ]
  }
 ],
 "metadata": {
  "kernelspec": {
   "display_name": "Python 3",
   "language": "python",
   "name": "python3"
  },
  "language_info": {
   "codemirror_mode": {
    "name": "ipython",
    "version": 3
   },
   "file_extension": ".py",
   "mimetype": "text/x-python",
   "name": "python",
   "nbconvert_exporter": "python",
   "pygments_lexer": "ipython3",
   "version": "3.8.5"
  }
 },
 "nbformat": 4,
 "nbformat_minor": 4
}
